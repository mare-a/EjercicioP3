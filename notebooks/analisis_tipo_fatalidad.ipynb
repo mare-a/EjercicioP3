{
 "cells": [
  {
   "cell_type": "code",
   "execution_count": null,
   "id": "e27c665f",
   "metadata": {
    "vscode": {
     "languageId": "plaintext"
    }
   },
   "outputs": [],
   "source": [
    "\n",
    "import pandas as pd\n",
    "import matplotlib.pyplot as plt\n",
    "import seaborn as sns\n",
    "\n",
    "df = pd.read_csv(\"attacks.csv\", encoding='latin1')\n",
    "\n",
    "df = df[['Type', 'Fatal (Y/N)']].dropna()\n",
    "\n",
    "df['Fatal (Y/N)'] = df['Fatal (Y/N)'].str.upper().str.strip()\n",
    "df = df[df['Fatal (Y/N)'].isin(['Y', 'N'])]\n",
    "\n",
    "tabla = df.groupby(['Type', 'Fatal (Y/N)']).size().unstack().fillna(0)\n",
    "tabla['Total'] = tabla.sum(axis=1)\n",
    "tabla['% Fatales'] = round((tabla['Y'] / tabla['Total']) * 100, 2)\n",
    "tabla['% No Fatales'] = round((tabla['N'] / tabla['Total']) * 100, 2)\n",
    "\n",
    "print(tabla[['Total', '% Fatales', '% No Fatales']])\n",
    "\n",
    "plt.figure(figsize=(8, 5))\n",
    "sns.barplot(data=tabla.reset_index(), x='Type', y='% Fatales')\n",
    "plt.title('Porcentaje de ataques fatales por tipo de ataque')\n",
    "plt.ylabel('% Fatales')\n",
    "plt.xlabel('Tipo de ataque')\n",
    "plt.xticks(rotation=45)\n",
    "plt.tight_layout()\n",
    "plt.show()\n"
   ]
  }
 ],
 "metadata": {
  "language_info": {
   "name": "python"
  }
 },
 "nbformat": 4,
 "nbformat_minor": 5
}
